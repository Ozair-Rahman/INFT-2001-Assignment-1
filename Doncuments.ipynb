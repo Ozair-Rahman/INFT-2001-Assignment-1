{
 "cells": [
  {
   "attachments": {},
   "cell_type": "markdown",
   "metadata": {},
   "source": [
    "# Assignment 1 - Website"
   ]
  },
  {
   "attachments": {},
   "cell_type": "markdown",
   "metadata": {},
   "source": [
    "## Schedule:\n",
    "### Week 1 - January 19-26\n",
    "1. Setup documentation \n",
    "2. GitHub and make sure everyone is able to pull and pust to the repo. \n",
    "3. Learn about React for web development\n",
    "4. Assign work to members of team to start on code\n",
    "\n",
    "### Week 2 - January 26-February 2\n",
    "1. Ask interview questions in class\n",
    "2. Finish use-case diagrams and requirements definition in class\n",
    "3. Casey start working on about me page\n",
    "4. Ozair start working on inventory/products page\n",
    "5. Richard start working on contact page\n",
    "6. Work collectively on home page and email contact\n",
    "\n",
    "### Week 3 - February 2-9\n",
    "1. Finish seperate pages\n",
    "2. Integrate all pages of website\n",
    "3. Troubleshoot site to find any errors in code that could cause site to crash/freeze\n",
    "4. Make presentation \n",
    "5. Give presentation and live demo in class on February 9th. "
   ]
  },
  {
   "attachments": {},
   "cell_type": "markdown",
   "metadata": {},
   "source": [
    "## Interview:\n",
    "### Questions:\n",
    "1. Tell me about your company? \n",
    "2. what kind of products do you sell and want to include on the website?\n",
    "3. What is your target audience (age demographic)?\n",
    "4. What important information about your company would you like to provide on your website?\n",
    "5. Would you like to show customer reviews/testimonials on your website?\n",
    "6. What is your contact information (email, phone, address, social media)\n",
    "7. Would you like to include location and hours of opperation on your website?\n",
    "8. Do you already have some branding done (colours, fonts, themes, logos) that youd like to model your site after?\n",
    "\n",
    "### Answers:\n",
    "1. Crave Doughnuts is a local doughnut shop with focus on innovation and quality ingrediants. \n",
    "2. sell doughnuts. include different combo boxes of doughnuts\n",
    "3. target audience is people who like donuts \n",
    "4. relevant contact information, introduction to popular products, customer reviews, and company pholosophy\n",
    "5. yes\n",
    "6. instagram, facebook, email, and phone provided \n",
    "7. yes\n",
    "8. yes. (see social media)"
   ]
  },
  {
   "attachments": {},
   "cell_type": "markdown",
   "metadata": {},
   "source": [
    "## Requirements Definition:\n",
    "### Functional Requirements:\n",
    "1. Navigation:\n",
    "\n",
    "    1.1. Site will be able to navigate between pages without error. \n",
    "\n",
    "    1.2. There will be a navigation bar at the top of the site where user can navigate between pages. \n",
    "    \n",
    "    1.3. There will be a footer at the bottom of the site which will provide quick links to about, contact, and faq pages as well as social media. \n",
    "2. Pages:\n",
    "\n",
    "    2.1. Product page will list available products and show more information when prompted by user. \n",
    "\n",
    "    2.2. Contact page will provide links to social media which, when clicked, will bring user to respective social media accounts. \n",
    "3. Special Components:\n",
    "\n",
    "    3.1. Email responder system on contact page. Takes user name and email and sends an email to company directly from site. \n",
    "\n",
    "    3.2. Logo in top corner of site that links to home page from any page when clicked. \n",
    "\n",
    "### Non-Functional Requirements:\n",
    "1. Opperational Requirements:\n",
    "\n",
    "    1.1. Site should opperate in standard web browser using localhost.\n",
    "\n",
    "    1.2. Site will be responsive to viewing platform. \n",
    "2. Performance Requirements:\n",
    "\n",
    "    2.1.Site will take on design elements and branding from provided social media accounts. \n",
    "3. Secutiry Requirements:\n",
    "\n",
    "    3.1.Site should not store or keep any customer personal or contact information after submitting contact form.\n",
    "4. Cultural and Political Requirements:\n",
    "\n",
    "    4.1. No specific cultural or political requirements."
   ]
  },
  {
   "attachments": {},
   "cell_type": "markdown",
   "metadata": {},
   "source": [
    "## General Documentation\n",
    "1. what are we trying to build?\n",
    "\n",
    "    We are building a website for Crave Doughnuts that includes the following pages:\n",
    "\n",
    "    Home, About, Product, Contact\n",
    "\n",
    "    Site has optional requirements to be responsive to different viewing platforms and to include an email responder system. \n",
    "2. why are we building it?\n",
    "\n",
    "    We are building this for a school project that is supposed to simulate building a website for a brand or company. "
   ]
  },
  {
   "attachments": {},
   "cell_type": "markdown",
   "metadata": {},
   "source": [
    "### Resources:\n",
    "\n",
    "- Main Website: https://cravedoughnuts.com/\n",
    "- Donut Favicon: https://icons8.com/icon/bx1yXUSM0fcS/donut\n",
    "- Facebook Favicon: https://icons8.com/icon/118466/facebook\n",
    "- Instagram Favicon: https://icons8.com/icon/59813/instagram\n",
    "- Left Quotation Mark Unicode: https://unicode-table.com/en/201C/\n",
    "- Full Hyphen Unicode: https://unicode-table.com/en/FF0D/"
   ]
  }
 ],
 "metadata": {
  "kernelspec": {
   "display_name": "base",
   "language": "python",
   "name": "python3"
  },
  "language_info": {
   "name": "python",
   "version": "3.9.13 (main, Aug 25 2022, 18:29:29) \n[Clang 12.0.0 ]"
  },
  "orig_nbformat": 4,
  "vscode": {
   "interpreter": {
    "hash": "586d7bb9ccd32ed1fabfaa675cfdd3e97cf2ae9dca1181a80a5bb24872647dc6"
   }
  }
 },
 "nbformat": 4,
 "nbformat_minor": 2
}
