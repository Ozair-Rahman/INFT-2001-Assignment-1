{
 "cells": [
  {
   "attachments": {},
   "cell_type": "markdown",
   "metadata": {},
   "source": [
    "# Assignment 1 - Website"
   ]
  },
  {
   "attachments": {},
   "cell_type": "markdown",
   "metadata": {},
   "source": [
    "## Schedule:\n",
    "### Week 1 - January 19-26\n",
    "1. setup documentation \n",
    "2. GitHub and make sure everyone is able to pull and pust to the repo. \n",
    "\n",
    "### Week 2 - January 26-February 2\n",
    "1. Ask interview questions in class\n",
    "2. Finish use-case diagrams and requirements definition in class\n",
    "3. "
   ]
  },
  {
   "attachments": {},
   "cell_type": "markdown",
   "metadata": {},
   "source": [
    "## Interview Questions:\n",
    "interview questions here"
   ]
  },
  {
   "attachments": {},
   "cell_type": "markdown",
   "metadata": {},
   "source": [
    "## Use-Case Diagrams:\n",
    "use-case diagrams here"
   ]
  },
  {
   "attachments": {},
   "cell_type": "markdown",
   "metadata": {},
   "source": [
    "## Requirements Definition:\n",
    "requirements definition here"
   ]
  },
  {
   "attachments": {},
   "cell_type": "markdown",
   "metadata": {},
   "source": [
    "## General Documentation\n",
    "1. what are we trying to build?\n",
    "2. why are we building it?\n",
    "3. document your issues\n",
    "4. site any resources"
   ]
  },
  {
   "attachments": {},
   "cell_type": "markdown",
   "metadata": {},
   "source": [
    "### Casey's Issues and Resolutions:\n",
    "Casey's issues here"
   ]
  },
  {
   "attachments": {},
   "cell_type": "markdown",
   "metadata": {},
   "source": [
    "### Ozair's Issues and Resolutions:\n",
    "Ozair's issues here"
   ]
  },
  {
   "attachments": {},
   "cell_type": "markdown",
   "metadata": {},
   "source": [
    "### Richard's Issues and Resolutions:\n",
    "Richard's issues here"
   ]
  },
  {
   "attachments": {},
   "cell_type": "markdown",
   "metadata": {},
   "source": [
    "### Resources:\n",
    "write down ALL resources"
   ]
  }
 ],
 "metadata": {
  "kernelspec": {
   "display_name": "base",
   "language": "python",
   "name": "python3"
  },
  "language_info": {
   "name": "python",
   "version": "3.9.13 (main, Aug 25 2022, 18:29:29) \n[Clang 12.0.0 ]"
  },
  "orig_nbformat": 4,
  "vscode": {
   "interpreter": {
    "hash": "586d7bb9ccd32ed1fabfaa675cfdd3e97cf2ae9dca1181a80a5bb24872647dc6"
   }
  }
 },
 "nbformat": 4,
 "nbformat_minor": 2
}
