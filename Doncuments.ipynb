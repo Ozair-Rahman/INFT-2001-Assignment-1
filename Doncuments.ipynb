{
 "cells": [
  {
   "attachments": {},
   "cell_type": "markdown",
   "metadata": {},
   "source": [
    "# Assignment 1 - Website"
   ]
  },
  {
   "attachments": {},
   "cell_type": "markdown",
   "metadata": {},
   "source": [
    "## Schedule:\n",
    "### Week 1 - January 19-26\n",
    "1. Setup documentation \n",
    "2. GitHub and make sure everyone is able to pull and pust to the repo. \n",
    "3. Learn about React for web development\n",
    "4. Assign work to members of team to start on code\n",
    "\n",
    "### Week 2 - January 26-February 2\n",
    "1. Ask interview questions in class\n",
    "2. Finish use-case diagrams and requirements definition in class\n",
    "3. Casey start working on about me page\n",
    "4. Ozair start working on inventory/products page\n",
    "5. Richard start working on contact page\n",
    "6. Work collectively on home page and email contact\n",
    "\n",
    "### Week 3 - February 2-9\n",
    "1. Finish seperate pages\n",
    "2. Integrate all pages of website\n",
    "3. Troubleshoot site to find any errors in code that could cause site to crash/freeze\n",
    "4. Make presentation \n",
    "5. Give presentation and live demo in class on February 9th. "
   ]
  },
  {
   "attachments": {},
   "cell_type": "markdown",
   "metadata": {},
   "source": [
    "## Interview Questions:\n",
    "1. Tell me about your company? \n",
    "2. what kind of products do you sell and want to include on the website?\n",
    "3. What is your target audience (age demographic)?\n",
    "4. What important information about your company would you like to provide on your website?\n",
    "5. Would you like to show customer reviews/testimonials on your website?\n",
    "6. What is your contact information (email, phone, address, social media)\n",
    "7. Would you like to include location and hours of opperation on your website?\n",
    "8. Do you already have some branding done (colours, fonts, themes, logos) that youd like to model your site after?\n"
   ]
  },
  {
   "attachments": {},
   "cell_type": "markdown",
   "metadata": {},
   "source": [
    "## Requirements Definition:\n",
    "To be written after interview"
   ]
  },
  {
   "attachments": {},
   "cell_type": "markdown",
   "metadata": {},
   "source": [
    "## Use-Case Diagrams:\n",
    "to be done after requirements definition"
   ]
  },
  {
   "attachments": {},
   "cell_type": "markdown",
   "metadata": {},
   "source": [
    "## General Documentation\n",
    "answer these questions after interview:\n",
    "1. what are we trying to build?\n",
    "2. why are we building it?\n",
    "3. document your issues\n",
    "4. site any resources"
   ]
  },
  {
   "attachments": {},
   "cell_type": "markdown",
   "metadata": {},
   "source": [
    "### Casey's Issues and Resolutions:\n",
    "Casey's issues here"
   ]
  },
  {
   "attachments": {},
   "cell_type": "markdown",
   "metadata": {},
   "source": [
    "### Ozair's Issues and Resolutions:\n",
    "Ozair's issues here"
   ]
  },
  {
   "attachments": {},
   "cell_type": "markdown",
   "metadata": {},
   "source": [
    "### Richard's Issues and Resolutions:\n",
    "Richard's issues here"
   ]
  },
  {
   "attachments": {},
   "cell_type": "markdown",
   "metadata": {},
   "source": [
    "### Resources:\n",
    "\n",
    "- Main Website: https://cravedoughnuts.com/\n",
    "- Donut Favicon: https://icons8.com/icon/bx1yXUSM0fcS/donut\n",
    "- Facebook Favicon: https://icons8.com/icon/118466/facebook\n",
    "- Instagram Favicon: https://icons8.com/icon/59813/instagram\n",
    "- Left Quotation Mark Unicode: https://unicode-table.com/en/201C/\n",
    "- Full Hyphen Unicode: https://unicode-table.com/en/FF0D/"
   ]
  }
 ],
 "metadata": {
  "kernelspec": {
   "display_name": "School",
   "language": "python",
   "name": "python3"
  },
  "language_info": {
   "name": "python",
   "version": "3.10.5 | packaged by conda-forge | (main, Jun 14 2022, 07:05:37) [Clang 13.0.1 ]"
  },
  "orig_nbformat": 4,
  "vscode": {
   "interpreter": {
    "hash": "cd073b9f4aeccb8cef1b3ce9538cc626cc99688c8eaaacda01b2300023ae49e4"
   }
  }
 },
 "nbformat": 4,
 "nbformat_minor": 2
}
