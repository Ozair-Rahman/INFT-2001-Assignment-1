{
 "cells": [
  {
   "attachments": {},
   "cell_type": "markdown",
   "metadata": {},
   "source": [
    "# Assignment 1 - Website"
   ]
  },
  {
   "attachments": {},
   "cell_type": "markdown",
   "metadata": {},
   "source": [
    "## Schedule:\n",
    "### Week 1 - January 19-26\n",
    "1. Setup documentation \n",
    "2. GitHub and make sure everyone is able to pull and pust to the repo. \n",
    "3. Learn about React for web development\n",
    "4. Assign work to members of team to start on code\n",
    "\n",
    "### Week 2 - January 26-February 2\n",
    "1. Ask interview questions in class\n",
    "2. Finish use-case diagrams and requirements definition in class\n",
    "3. Casey start working on about me page\n",
    "4. Ozair start working on inventory/products page\n",
    "5. Richard start working on contact page\n",
    "6. Work collectively on home page and email contact\n",
    "\n",
    "### Week 3 - February 2-9\n",
    "1. Finish seperate pages\n",
    "2. Integrate all pages of website\n",
    "3. Troubleshoot site to find any errors in code that could cause site to crash/freeze\n",
    "4. Make presentation \n",
    "5. Give presentation and live demo in class on February 9th. "
   ]
  },
  {
   "attachments": {},
   "cell_type": "markdown",
   "metadata": {},
   "source": [
    "## Interview Questions:\n",
    "1. Tell me about your company? \n",
    "2. what kind of products do you sell and want to include on the website?\n",
    "3. What is your target audience (age demographic)?\n",
    "4. What important information about your company would you like to provide on your website?\n",
    "5. Would you like to show customer reviews/testimonials on your website?\n",
    "6. What is your contact information (email, phone, address, social media)\n",
    "7. Would you like to include location and hours of opperation on your website?\n",
    "8. Do you already have some branding done (colours, fonts, themes, logos) that youd like to model your site after?\n"
   ]
  },
  {
   "attachments": {},
   "cell_type": "markdown",
   "metadata": {},
   "source": [
    "## Requirements Definition:\n",
    "### Functional Requirements:\n",
    "1. Site will be able to navigate between pages without error.\n",
    "2. Product page will list available products and show more information when prompted.\n",
    "3. Contact page will include an email collection. This will allow customers to submit a question or general feedback through email. \n",
    "4. There will be a navigation bar at the top of the page where user will have access to all pages at all times. \n",
    "5. There will be a footer at the bottom of the site which will include quick links to company social media and additional pages and contact information. \n",
    "6. There will be a logo at the top left corner of the site that, when clocked, will bring you back to the home page.\n",
    "\n",
    "### Non-Functional Requirements:\n",
    "1. \n",
    "2. \n",
    "3. \n",
    "4. "
   ]
  },
  {
   "attachments": {},
   "cell_type": "markdown",
   "metadata": {},
   "source": [
    "## Use-Case Diagrams:\n",
    "to be done after requirements definition"
   ]
  },
  {
   "attachments": {},
   "cell_type": "markdown",
   "metadata": {},
   "source": [
    "## General Documentation\n",
    "answer these questions after interview:\n",
    "1. what are we trying to build?\n",
    "2. why are we building it?\n",
    "3. document your issues\n",
    "4. site any resources"
   ]
  },
  {
   "attachments": {},
   "cell_type": "markdown",
   "metadata": {},
   "source": [
    "### Resources:\n",
    "\n",
    "- Main Website: https://cravedoughnuts.com/\n",
    "- Donut Favicon: https://icons8.com/icon/bx1yXUSM0fcS/donut\n",
    "- Facebook Favicon: https://icons8.com/icon/118466/facebook\n",
    "- Instagram Favicon: https://icons8.com/icon/59813/instagram\n",
    "- Left Quotation Mark Unicode: https://unicode-table.com/en/201C/\n",
    "- Full Hyphen Unicode: https://unicode-table.com/en/FF0D/"
   ]
  }
 ],
 "metadata": {
  "kernelspec": {
   "display_name": "base",
   "language": "python",
   "name": "python3"
  },
  "language_info": {
   "name": "python",
   "version": "3.9.13 (main, Aug 25 2022, 18:29:29) \n[Clang 12.0.0 ]"
  },
  "orig_nbformat": 4,
  "vscode": {
   "interpreter": {
    "hash": "586d7bb9ccd32ed1fabfaa675cfdd3e97cf2ae9dca1181a80a5bb24872647dc6"
   }
  }
 },
 "nbformat": 4,
 "nbformat_minor": 2
}
